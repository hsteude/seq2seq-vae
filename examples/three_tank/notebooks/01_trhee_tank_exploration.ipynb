{
 "cells": [
  {
   "cell_type": "code",
   "execution_count": null,
   "id": "3e02238b",
   "metadata": {},
   "outputs": [],
   "source": [
    "import os\n",
    "os.chdir('../../..')"
   ]
  },
  {
   "cell_type": "code",
   "execution_count": null,
   "id": "0c50546e",
   "metadata": {},
   "outputs": [],
   "source": [
    "import numpy as np\n",
    "from scipy.integrate import odeint\n",
    "from sklearn.linear_model import Lasso\n",
    "from plotly.subplots import make_subplots\n",
    "import plotly.graph_objects as go\n",
    "import plotly.express as px\n",
    "from ipywidgets import interact\n",
    "import ipywidgets as widgets"
   ]
  },
  {
   "cell_type": "markdown",
   "id": "79ffdee0",
   "metadata": {},
   "source": [
    "I just took a random paper that wrote down the dynamic system equations for the three tank setup. Found [this](http://www.scs-europe.net/dlib/2016/ecms2016acceptedpapers/0347-mct_ECMS_0022.pdf).\n",
    "\n",
    "![](../pics/three_tank_system_picture.png)"
   ]
  },
  {
   "cell_type": "markdown",
   "id": "239a15f2",
   "metadata": {},
   "source": [
    "According to that paper, the system can be modelled like so:\n",
    "$$\n",
    "C\\frac{dh_1(t)}{dt} = Q_1(t) - sign(h_1(t) - h_2(t)) \\sqrt{|h_1(t) - h_2(t)|}\\\\\n",
    "C\\frac{dh_2(t)}{dt} = sign(h_1(t) - h_2(t)) \\sqrt{|h_1(t)- h_2(t)|}-sign(h_2(t) - h_3(t)) \\sqrt{|h_2(t) - h_3(t)|}\\\\\n",
    "C\\frac{dh_3(t)}{dt} = Q_2(t) + sign(h_2(t) - h_3(t)) \\sqrt{|h_2(t) - h_3(t)|}\n",
    "$$\n",
    "Note that this is somewhat simpler than the equations in the paper, since we assume no leakage and tanks of equal sizes and equal valves...\n"
   ]
  },
  {
   "cell_type": "code",
   "execution_count": null,
   "id": "c0231e1b",
   "metadata": {},
   "outputs": [],
   "source": [
    "# Constants\n",
    "A = 5\n",
    "g = 9.81\n",
    "C = np.sqrt(2*g)/A\n",
    "q1 = 1\n",
    "q3 = 1\n",
    "kv1 = 1\n",
    "kv2 = 1"
   ]
  },
  {
   "cell_type": "code",
   "execution_count": null,
   "id": "9897086f",
   "metadata": {},
   "outputs": [],
   "source": [
    "# define time steps\n",
    "t = np.linspace(0, 10, 50)"
   ]
  },
  {
   "cell_type": "code",
   "execution_count": null,
   "id": "b24164e5",
   "metadata": {},
   "outputs": [],
   "source": [
    "def system_dynamics_function(x, t, q1, q3, kv1, kv2):\n",
    "    x1 = x[0]\n",
    "    x2 = x[1]\n",
    "    x3 = x[2]\n",
    "    dh1_dt =C * q1 - kv1 * C * np.sign(x1 - x2) * np.sqrt(np.abs(x1 - x2))\n",
    "    dh2_dt = kv1 * C * np.sign(x1 - x2) * np.sqrt(np.abs(x1 - x2)) - kv2 * C * np.sign(x2 - x3) * np.sqrt(np.abs(x2 - x3))\n",
    "    dh3_dt = C * q3 + kv2 * C* np.sign(x2 - x3) * np.sqrt(np.abs(x2 - x3))\n",
    "    return dh1_dt, dh2_dt, dh3_dt"
   ]
  },
  {
   "cell_type": "code",
   "execution_count": null,
   "id": "2964edcf",
   "metadata": {},
   "outputs": [],
   "source": []
  },
  {
   "cell_type": "code",
   "execution_count": null,
   "id": "1fc76549",
   "metadata": {},
   "outputs": [],
   "source": []
  },
  {
   "cell_type": "code",
   "execution_count": null,
   "id": "cbadd901",
   "metadata": {},
   "outputs": [],
   "source": [
    "q1 = [1, 2]\n",
    "q3 = [2, 1]\n",
    "kv1 = [0.5, 1]\n",
    "kv2 = [1, 0.5]"
   ]
  },
  {
   "cell_type": "code",
   "execution_count": null,
   "id": "de819330",
   "metadata": {},
   "outputs": [],
   "source": [
    "# initial condition\n",
    "x0 = (10, 100, 33)"
   ]
  },
  {
   "cell_type": "code",
   "execution_count": null,
   "id": "22995e1d",
   "metadata": {},
   "outputs": [],
   "source": [
    "# solve ode\n",
    "# y1 = odeint(system_dynamics_function, x0, t, (q1[0], q3[0], kv1[0], kv2[0]))\n",
    "y0 = odeint(system_dynamics_function, x0, t, (q1[0], q3[0], kv1[0], kv1[0]))\n",
    "y1 = odeint(system_dynamics_function, x0, t, (q1[1], q3[1], kv1[1], kv1[1]))\n"
   ]
  },
  {
   "cell_type": "code",
   "execution_count": null,
   "id": "88b13ef9",
   "metadata": {},
   "outputs": [],
   "source": [
    "fig = make_subplots(rows=2, cols=1, shared_xaxes=True,\n",
    "                   subplot_titles=(\"time series a\", \"time series b\"))\n",
    "# signal 1\n",
    "DEFAULT_PLOTLY_COLORS=['rgb(31, 119, 180)', 'rgb(255, 127, 14)',\n",
    "                       'rgb(44, 160, 44)', 'rgb(214, 39, 40)',\n",
    "                       'rgb(148, 103, 189)', 'rgb(140, 86, 75)',\n",
    "                       'rgb(227, 119, 194)', 'rgb(127, 127, 127)',\n",
    "                       'rgb(188, 189, 34)', 'rgb(23, 190, 207)']\n",
    "names0 = [r'$h_{1,a}(t)$', r'$h_{2,a}(t)$', r'$h_{3,a}(t)$']\n",
    "names1 = [r'$h_{1,b}(t)$', r'$h_{2,b}(t)$', r'$h_{3,b}(t)$']\n",
    "# names0 = [r'a', 'c', 'b']\n",
    "# names1 = [r'a', 'c', 'b']\n",
    "for color, sig, name in zip(DEFAULT_PLOTLY_COLORS[0:3], [y0[:, 0], y0[:, 1], y0[:, 2]], names0):\n",
    "    fig.add_trace(go.Scatter(x=t, y=sig, name=name,\n",
    "                  mode=\"lines\", opacity=1, \n",
    "#                              marker_color=color\n",
    "                            ),\n",
    "        row=1, col=1)\n",
    "for color, sig, name in zip(DEFAULT_PLOTLY_COLORS[0:3], [y1[:, 0], y1[:, 1], y1[:, 2]],  names1):\n",
    "    fig.add_trace(go.Scatter(x=t, y=sig, name=name,\n",
    "                  mode=\"lines\", opacity=1\n",
    "#                              , marker_color=color\n",
    "                            ),\n",
    "        row=2, col=1)\n",
    "fig.update_xaxes(title_text=r'time',row=2, col=1)\n",
    "fig.update_yaxes(title_text='fill level')\n",
    "# fig.update_layout(title_text=\"Fill levels over time\", showlegend=True)\n",
    "fig.update_layout(\n",
    "#     legend=dict(\n",
    "#         yanchor=\"top\",\n",
    "#         y=0.99,\n",
    "#         xanchor=\"left\",\n",
    "#         x=0.1),\n",
    "    width =500, height=400, \n",
    "                  font_family=\"Serif\", font_size=14, \n",
    "                  margin_l=5, margin_t=50, margin_b=5, margin_r=5\n",
    ")\n",
    "\n",
    "fig.show()"
   ]
  },
  {
   "cell_type": "code",
   "execution_count": null,
   "id": "22bf7844",
   "metadata": {},
   "outputs": [],
   "source": [
    "# import plotly.io as pio\n",
    "# #save a figure of 300dpi, width 1.5 inches, height 0.75inches\n",
    "# pio.write_image(fig, \"test.pdf\", width=1.5*300, height=1.1*300)"
   ]
  },
  {
   "cell_type": "code",
   "execution_count": null,
   "id": "eb8c569a",
   "metadata": {},
   "outputs": [],
   "source": [
    "pip install -U kaleido"
   ]
  },
  {
   "cell_type": "code",
   "execution_count": null,
   "id": "be6039d0",
   "metadata": {},
   "outputs": [],
   "source": [
    "pwd"
   ]
  },
  {
   "cell_type": "markdown",
   "id": "12f30326-aedc-4cf0-8543-4ad23c5ae7ba",
   "metadata": {},
   "source": [
    "# Some time series for state identification demos"
   ]
  },
  {
   "cell_type": "code",
   "execution_count": null,
   "id": "0cd0ea5c-66a1-4d5a-8828-ec0a1e573edc",
   "metadata": {},
   "outputs": [],
   "source": [
    "import numpy as np\n",
    "def system_dynamics_function(x, t, q1, q3, kv1, kv2, kv3):\n",
    "    A = 5\n",
    "    g = 9.81\n",
    "    C = np.sqrt(2*g)/A\n",
    "    x1 = x[0]\n",
    "    x2 = x[1]\n",
    "    x3 = x[2]\n",
    "    dh1_dt =C * q1 - kv1 * C * np.sign(x1 - x2) * np.sqrt(np.abs(x1 - x2))\n",
    "    dh2_dt = kv1 * C * np.sign(x1 - x2) * np.sqrt(np.abs(x1 - x2)) \\\n",
    "        - kv2 * C * np.sign(x2 - x3) * np.sqrt(np.abs(x2 - x3))\n",
    "    dh3_dt = C * q3 + kv2 * C* np.sign(x2 - x3) * np.sqrt(np.abs(x2 - x3)) - kv3*np.sqrt(x3)\n",
    "    return dh1_dt, dh2_dt, dh3_dt\n",
    "\n",
    "def compute_section(duration: int=10, x0:np.array=np.array([30, 10, 50]),\n",
    "                    kv1: float=1, kv2: float = 1, kv3: float=1,\n",
    "                    q1:float=1, q3:float=1):\n",
    "\n",
    "    t = np.array(range(duration))\n",
    "    y = odeint(system_dynamics_function, x0, t, (q1, q3, kv1, kv2, kv3))\n",
    "    y_stop = y[-1, :]\n",
    "    return y, y_stop\n",
    "\n",
    "def compute_multiple_section(x0:np.array = np.array([10, 10, 10]),\n",
    "                             q1_ls:list = [0, 1], q3_ls:list=[1, 1],\n",
    "                             kv1_ls:list=[1, 0], kv2_ls:list=[1, 0],\n",
    "                             kv3_ls:list=[1,0], duration_ls:list=[50, 10]):\n",
    "    y_ls = []\n",
    "    #first iteration:\n",
    "    y, y_stop = compute_section(duration_ls[0], x0, kv1_ls[0], kv2_ls[0], kv3_ls[0],\n",
    "                                         q1_ls[0], q3_ls[0])\n",
    "    y_ls.append(y)\n",
    "    \n",
    "    #all the other runs\n",
    "    for q1, q3, kv1, kv2, kv3, duration in zip(\n",
    "        q1_ls[1:], q3_ls[1:], kv1_ls[1:], kv2_ls[1:], kv3_ls[1:],\n",
    "        duration_ls[1:]):\n",
    "        y, y_stop = compute_section(duration, y_stop, kv1, kv2, kv3, q1, q3)\n",
    "        y_ls.append(y)\n",
    "    y = np.concatenate(y_ls)\n",
    "    return y"
   ]
  },
  {
   "cell_type": "code",
   "execution_count": null,
   "id": "fd0c492a",
   "metadata": {},
   "outputs": [],
   "source": [
    "input_dct = dict(\n",
    "    x0=np.array([10, 20, 10]),\n",
    "    q1_ls=list([.2, 0, 0]*3+[.1])*100,\n",
    "    q3_ls=list([.5, 0, 0]*3+[.1])*100,\n",
    "    kv1_ls=list([.05, 0, .05]*3+[1])*100,\n",
    "    kv2_ls=list([.1, 0, .1]*3+[1])*100,\n",
    "    kv3_ls=list([0, 0, .1]*3+[.1])*100,\n",
    "    duration_ls=list([50, 50, 50]*3+[1000])*100\n",
    ")"
   ]
  },
  {
   "cell_type": "code",
   "execution_count": null,
   "id": "94438a4c",
   "metadata": {},
   "outputs": [],
   "source": [
    "y = compute_multiple_section(**input_dct)\n",
    "fig = make_subplots(rows=1, cols=1, shared_xaxes=True)\n",
    "\n",
    "for sig, name in zip([y[:, 0], y[:, 1], y[:, 2]],\n",
    "                    ['h1', 'h2', 'h3']):\n",
    "    fig.add_trace(go.Scatter(x=np.array(range(y.shape[0])), y=sig, name=name,\n",
    "                  mode=\"lines\", opacity=1),\n",
    "        row=1, col=1)\n",
    "\n",
    "fig.update_xaxes(title_text=r'time',row=2, col=1)\n",
    "fig.update_yaxes(title_text='fill level')\n",
    "fig.update_layout(\n",
    "\n",
    "    width =500, height=400, \n",
    "                  font_family=\"Serif\", font_size=14, \n",
    "                  margin_l=5, margin_t=50, margin_b=5, margin_r=5\n",
    ")\n",
    "\n",
    "fig.show()"
   ]
  },
  {
   "cell_type": "code",
   "execution_count": null,
   "id": "590f4b5d",
   "metadata": {},
   "outputs": [],
   "source": [
    "list([50, 50, 50]*3+[1000])*10"
   ]
  },
  {
   "cell_type": "code",
   "execution_count": null,
   "id": "369ea501",
   "metadata": {},
   "outputs": [],
   "source": [
    "[50, 50, 50]*3+[1000]"
   ]
  },
  {
   "cell_type": "code",
   "execution_count": null,
   "id": "84c14030",
   "metadata": {},
   "outputs": [],
   "source": []
  }
 ],
 "metadata": {
  "kernelspec": {
   "display_name": "Python 3 (ipykernel)",
   "language": "python",
   "name": "python3"
  },
  "language_info": {
   "codemirror_mode": {
    "name": "ipython",
    "version": 3
   },
   "file_extension": ".py",
   "mimetype": "text/x-python",
   "name": "python",
   "nbconvert_exporter": "python",
   "pygments_lexer": "ipython3",
   "version": "3.9.7"
  }
 },
 "nbformat": 4,
 "nbformat_minor": 5
}
