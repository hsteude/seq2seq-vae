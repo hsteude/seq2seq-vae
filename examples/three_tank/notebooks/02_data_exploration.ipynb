{
 "cells": [
  {
   "cell_type": "code",
   "execution_count": 1,
   "id": "65d3a59e",
   "metadata": {},
   "outputs": [],
   "source": [
    "import os\n",
    "os.chdir('../../..')"
   ]
  },
  {
   "cell_type": "code",
   "execution_count": 2,
   "id": "da3984c9",
   "metadata": {},
   "outputs": [],
   "source": [
    "import pandas as pd\n",
    "import examples.three_tank.constants as const\n",
    "import numpy as np\n",
    "import plotly.express as px\n",
    "from ipywidgets import interact\n",
    "import ipywidgets as widgets\n",
    "from plotly.subplots import make_subplots\n",
    "import plotly.graph_objects as go\n",
    "%load_ext autoreload\n",
    "%autoreload 2"
   ]
  },
  {
   "cell_type": "code",
   "execution_count": 8,
   "id": "9d0a16ad",
   "metadata": {},
   "outputs": [],
   "source": [
    "# %run examples/three_tank/data_gen.py"
   ]
  },
  {
   "cell_type": "code",
   "execution_count": 9,
   "id": "5dd44e61",
   "metadata": {},
   "outputs": [
    {
     "data": {
      "text/html": [
       "<div>\n",
       "<style scoped>\n",
       "    .dataframe tbody tr th:only-of-type {\n",
       "        vertical-align: middle;\n",
       "    }\n",
       "\n",
       "    .dataframe tbody tr th {\n",
       "        vertical-align: top;\n",
       "    }\n",
       "\n",
       "    .dataframe thead th {\n",
       "        text-align: right;\n",
       "    }\n",
       "</style>\n",
       "<table border=\"1\" class=\"dataframe\">\n",
       "  <thead>\n",
       "    <tr style=\"text-align: right;\">\n",
       "      <th></th>\n",
       "      <th>h1</th>\n",
       "      <th>h2</th>\n",
       "      <th>h3</th>\n",
       "      <th>time</th>\n",
       "      <th>uid_ts_sample</th>\n",
       "      <th>q1</th>\n",
       "      <th>q3</th>\n",
       "      <th>kv12</th>\n",
       "      <th>kv23</th>\n",
       "    </tr>\n",
       "  </thead>\n",
       "  <tbody>\n",
       "    <tr>\n",
       "      <th>0</th>\n",
       "      <td>10.000000</td>\n",
       "      <td>95.000000</td>\n",
       "      <td>33.000000</td>\n",
       "      <td>0.000000</td>\n",
       "      <td>0</td>\n",
       "      <td>6.825291</td>\n",
       "      <td>4.157763</td>\n",
       "      <td>0.235768</td>\n",
       "      <td>0.841853</td>\n",
       "    </tr>\n",
       "    <tr>\n",
       "      <th>1</th>\n",
       "      <td>10.571552</td>\n",
       "      <td>94.209491</td>\n",
       "      <td>34.022954</td>\n",
       "      <td>0.204082</td>\n",
       "      <td>0</td>\n",
       "      <td>6.825291</td>\n",
       "      <td>4.157763</td>\n",
       "      <td>0.235768</td>\n",
       "      <td>0.841853</td>\n",
       "    </tr>\n",
       "    <tr>\n",
       "      <th>2</th>\n",
       "      <td>11.141523</td>\n",
       "      <td>93.429404</td>\n",
       "      <td>35.035404</td>\n",
       "      <td>0.408163</td>\n",
       "      <td>0</td>\n",
       "      <td>6.825291</td>\n",
       "      <td>4.157763</td>\n",
       "      <td>0.235768</td>\n",
       "      <td>0.841853</td>\n",
       "    </tr>\n",
       "    <tr>\n",
       "      <th>3</th>\n",
       "      <td>11.709916</td>\n",
       "      <td>92.659770</td>\n",
       "      <td>36.037314</td>\n",
       "      <td>0.612245</td>\n",
       "      <td>0</td>\n",
       "      <td>6.825291</td>\n",
       "      <td>4.157763</td>\n",
       "      <td>0.235768</td>\n",
       "      <td>0.841853</td>\n",
       "    </tr>\n",
       "    <tr>\n",
       "      <th>4</th>\n",
       "      <td>12.276730</td>\n",
       "      <td>91.900619</td>\n",
       "      <td>37.028645</td>\n",
       "      <td>0.816327</td>\n",
       "      <td>0</td>\n",
       "      <td>6.825291</td>\n",
       "      <td>4.157763</td>\n",
       "      <td>0.235768</td>\n",
       "      <td>0.841853</td>\n",
       "    </tr>\n",
       "  </tbody>\n",
       "</table>\n",
       "</div>"
      ],
      "text/plain": [
       "          h1         h2         h3      time  uid_ts_sample        q1  \\\n",
       "0  10.000000  95.000000  33.000000  0.000000              0  6.825291   \n",
       "1  10.571552  94.209491  34.022954  0.204082              0  6.825291   \n",
       "2  11.141523  93.429404  35.035404  0.408163              0  6.825291   \n",
       "3  11.709916  92.659770  36.037314  0.612245              0  6.825291   \n",
       "4  12.276730  91.900619  37.028645  0.816327              0  6.825291   \n",
       "\n",
       "         q3      kv12      kv23  \n",
       "0  4.157763  0.235768  0.841853  \n",
       "1  4.157763  0.235768  0.841853  \n",
       "2  4.157763  0.235768  0.841853  \n",
       "3  4.157763  0.235768  0.841853  \n",
       "4  4.157763  0.235768  0.841853  "
      ]
     },
     "execution_count": 9,
     "metadata": {},
     "output_type": "execute_result"
    }
   ],
   "source": [
    "df = pd.read_parquet(const.DATA_PATH)\n",
    "df.head()"
   ]
  },
  {
   "cell_type": "code",
   "execution_count": 10,
   "id": "31a047a0",
   "metadata": {},
   "outputs": [
    {
     "name": "stdout",
     "output_type": "stream",
     "text": [
      "<class 'pandas.core.frame.DataFrame'>\n",
      "Int64Index: 500000 entries, 0 to 499999\n",
      "Data columns (total 9 columns):\n",
      " #   Column         Non-Null Count   Dtype  \n",
      "---  ------         --------------   -----  \n",
      " 0   h1             500000 non-null  float64\n",
      " 1   h2             500000 non-null  float64\n",
      " 2   h3             500000 non-null  float64\n",
      " 3   time           500000 non-null  float64\n",
      " 4   uid_ts_sample  500000 non-null  int64  \n",
      " 5   q1             500000 non-null  float64\n",
      " 6   q3             500000 non-null  float64\n",
      " 7   kv12           500000 non-null  float64\n",
      " 8   kv23           500000 non-null  float64\n",
      "dtypes: float64(8), int64(1)\n",
      "memory usage: 38.1 MB\n"
     ]
    }
   ],
   "source": [
    "df.info()"
   ]
  },
  {
   "cell_type": "markdown",
   "id": "2c459112",
   "metadata": {},
   "source": [
    "# From parquet file"
   ]
  },
  {
   "cell_type": "code",
   "execution_count": 13,
   "id": "77556533",
   "metadata": {},
   "outputs": [
    {
     "data": {
      "application/vnd.jupyter.widget-view+json": {
       "model_id": "c581a6f78a97458990c59bd4b236f890",
       "version_major": 2,
       "version_minor": 0
      },
      "text/plain": [
       "interactive(children=(Dropdown(description='idx', options=(0, 1, 2, 3, 4, 5, 6, 7, 8, 9, 10, 11, 12, 13, 14, 1…"
      ]
     },
     "metadata": {},
     "output_type": "display_data"
    },
    {
     "data": {
      "text/plain": [
       "<function __main__._create_ts_plot(idx)>"
      ]
     },
     "execution_count": 13,
     "metadata": {},
     "output_type": "execute_result"
    }
   ],
   "source": [
    "def _create_ts_plot(idx):\n",
    "    df_plot = df[df[const.UID_SAMPLE_COL_NAME] == idx]\n",
    "    fig = make_subplots(rows=1, cols=1, shared_xaxes=True)\n",
    "    # signal 1\n",
    "    print(df_plot[['q1', 'q3', 'kv12', 'kv23']][0:1])\n",
    "    for col, name in zip(const.STATE_COL_NAMES, ['h1(t)', 'h2(t)', 'h3(t)']):\n",
    "        fig.add_trace(go.Scatter(x=df_plot.time, y=df_plot[col], name=name,\n",
    "                      mode=\"lines\", opacity=1),\n",
    "            row=1, col=1)\n",
    "\n",
    "    fig.update_xaxes(title_text='time')\n",
    "    fig.update_yaxes(title_text='x', row=1)\n",
    "    fig.update_yaxes(title_text='x_dot', row=2)\n",
    "    fig.update_layout(title_text=f\"load from parquet file\", showlegend=True)\n",
    "    fig.show()\n",
    "\n",
    "interact(_create_ts_plot, idx=list(range(100)))"
   ]
  },
  {
   "cell_type": "markdown",
   "id": "e066b7c3",
   "metadata": {},
   "source": [
    "## from pytorch dataset"
   ]
  },
  {
   "cell_type": "code",
   "execution_count": 22,
   "id": "c6f0d65f",
   "metadata": {},
   "outputs": [
    {
     "data": {
      "application/vnd.jupyter.widget-view+json": {
       "model_id": "38ce33eac1884aec8910f8c15e6d7503",
       "version_major": 2,
       "version_minor": 0
      },
      "text/plain": [
       "interactive(children=(Dropdown(description='idx', options=(0, 1, 2, 3, 4, 5, 6, 7, 8, 9, 10, 11, 12, 13, 14, 1…"
      ]
     },
     "metadata": {},
     "output_type": "display_data"
    },
    {
     "data": {
      "text/plain": [
       "<function __main__._create_ts_plot(idx)>"
      ]
     },
     "execution_count": 22,
     "metadata": {},
     "output_type": "execute_result"
    }
   ],
   "source": [
    "from examples.three_tank.dataset import ThreeTankDataSet\n",
    "dataset = ThreeTankDataSet()\n",
    "def _create_ts_plot(idx):\n",
    "    x, idx = dataset[idx]\n",
    "    df_plot = pd.DataFrame(x, columns=const.STATE_COL_NAMES)\n",
    "    fig = make_subplots(rows=1, cols=1, shared_xaxes=True)\n",
    "    # signal 1\n",
    "#     print(df_plot[['q1', 'q3', 'kv12', 'kv23']][0:1])\n",
    "    for col, name in zip(const.STATE_COL_NAMES, ['h1(t)', 'h2(t)', 'h3(t)']):\n",
    "        fig.add_trace(go.Scatter(x=np.array(range(const.NUMBER_TIMESTEPS)), y=df_plot[col], name=name,\n",
    "                      mode=\"lines\", opacity=1),\n",
    "            row=1, col=1)\n",
    "\n",
    "    fig.update_xaxes(title_text='time')\n",
    "    fig.update_yaxes(title_text='x', row=1)\n",
    "    fig.update_yaxes(title_text='x_dot', row=2)\n",
    "    fig.update_layout(title_text=f\"load from pytorch dataset\", showlegend=True)\n",
    "    fig.show()\n",
    "\n",
    "interact(_create_ts_plot, idx=list(range(100)))"
   ]
  },
  {
   "cell_type": "markdown",
   "id": "9e5525b6",
   "metadata": {},
   "source": [
    "## from lightning data module"
   ]
  },
  {
   "cell_type": "code",
   "execution_count": 25,
   "id": "2f3ec694",
   "metadata": {},
   "outputs": [],
   "source": [
    "from examples.three_tank.data_module import ThreeTankDataModule\n",
    "hparams = dict(\n",
    "    validdation_split=.1,\n",
    "    batch_size=100,\n",
    "    dl_num_workers=0\n",
    ")\n",
    "ttdm = ThreeTankDataModule(**hparams)\n",
    "ttdm.setup()\n",
    "dl = ttdm.train_dataloader()\n",
    "train_batch = iter(dl).next()"
   ]
  },
  {
   "cell_type": "code",
   "execution_count": 26,
   "id": "63dde3b9",
   "metadata": {},
   "outputs": [],
   "source": [
    "x_train, idx = train_batch"
   ]
  },
  {
   "cell_type": "code",
   "execution_count": 27,
   "id": "4307e6bf",
   "metadata": {},
   "outputs": [
    {
     "data": {
      "text/plain": [
       "tensor([4949, 8190, 7238, 9815, 3407, 8975, 4954, 2617, 6490, 4517, 2685, 4841,\n",
       "        8759, 6693, 4110, 2411, 6173, 6031, 3648, 5426, 5203, 5038, 8565, 4147,\n",
       "        4729, 6881, 7380, 8257, 2952, 3708, 5940, 9730, 4704, 4456, 9309, 5204,\n",
       "        7891, 5389, 5677, 7720, 9248, 1838, 3427, 1400, 5576, 4117, 4839,   41,\n",
       "        9765,  698, 7786, 8288,  710, 2110, 3253,  609, 7401, 7406, 5987, 6094,\n",
       "        7513, 9384, 9967, 7957,  578, 3497, 5259, 5966, 1845, 9652,    4, 7177,\n",
       "         983, 7899, 8920, 9700, 5705, 8812, 1469, 3560, 5452, 2588, 6634, 7071,\n",
       "        2462,  148, 2312, 7905,  370, 4773, 7301, 7620, 6559, 2406, 6020, 8380,\n",
       "        7947, 2953, 5053, 9485])"
      ]
     },
     "execution_count": 27,
     "metadata": {},
     "output_type": "execute_result"
    }
   ],
   "source": [
    "idx"
   ]
  },
  {
   "cell_type": "code",
   "execution_count": 29,
   "id": "cff00706",
   "metadata": {},
   "outputs": [
    {
     "data": {
      "text/plain": [
       "torch.Size([100, 50, 3])"
      ]
     },
     "execution_count": 29,
     "metadata": {},
     "output_type": "execute_result"
    }
   ],
   "source": [
    "x_train.shape"
   ]
  },
  {
   "cell_type": "code",
   "execution_count": null,
   "id": "7c544557",
   "metadata": {},
   "outputs": [],
   "source": []
  }
 ],
 "metadata": {
  "kernelspec": {
   "display_name": "Python 3 (ipykernel)",
   "language": "python",
   "name": "python3"
  },
  "language_info": {
   "codemirror_mode": {
    "name": "ipython",
    "version": 3
   },
   "file_extension": ".py",
   "mimetype": "text/x-python",
   "name": "python",
   "nbconvert_exporter": "python",
   "pygments_lexer": "ipython3",
   "version": "3.9.7"
  }
 },
 "nbformat": 4,
 "nbformat_minor": 5
}
