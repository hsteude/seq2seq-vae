{
 "cells": [
  {
   "cell_type": "code",
   "execution_count": null,
   "id": "58504660",
   "metadata": {},
   "outputs": [],
   "source": [
    "import os\n",
    "os.chdir('..')"
   ]
  },
  {
   "cell_type": "code",
   "execution_count": null,
   "id": "7647d298",
   "metadata": {},
   "outputs": [],
   "source": [
    "from IPython.core.display import display, HTML\n",
    "display(HTML(\"<style>.container { width:100% !important; }</style>\"))"
   ]
  },
  {
   "cell_type": "code",
   "execution_count": null,
   "id": "050616e7",
   "metadata": {},
   "outputs": [],
   "source": [
    "import numpy as np\n",
    "import pandas as pd\n",
    "import plotly.graph_objects as go\n",
    "from plotly.subplots import make_subplots\n",
    "import constants as const\n",
    "%load_ext autoreload\n",
    "%autoreload 2"
   ]
  },
  {
   "cell_type": "code",
   "execution_count": null,
   "id": "1b034473",
   "metadata": {},
   "outputs": [],
   "source": [
    "# constants"
   ]
  },
  {
   "cell_type": "code",
   "execution_count": null,
   "id": "7d13c770",
   "metadata": {},
   "outputs": [],
   "source": [
    "# generate samples for hidden states\n",
    "np.random.seed(123)\n",
    "times = np.array(range(const.TIMESTEPS))\n",
    "freq = np.random.uniform(const.FREQ_MIN, const.FREQ_MAX, const.SAMPLES)\n",
    "amp = np.random.normal(const.AMP_MIN, const.AMP_MAX, const.SAMPLES)\n",
    "phi = np.random.normal(const.PHI_MIN, const.PHI_MAX, const.SAMPLES)\n",
    "# values = amp * np.sin(2*np.pi*freq*times + phi)\n",
    "values = np.array([amp * np.sin(2*np.pi*freq*t + phi) for t in times]).transpose()"
   ]
  },
  {
   "cell_type": "code",
   "execution_count": null,
   "id": "3eec813b",
   "metadata": {},
   "outputs": [],
   "source": [
    "# put in df\n",
    "df = pd.DataFrame(values)\n",
    "df.head()"
   ]
  },
  {
   "cell_type": "code",
   "execution_count": null,
   "id": "509bda1d",
   "metadata": {},
   "outputs": [],
   "source": [
    "# plot some samples\n",
    "df_plot = df.copy()\n",
    "fig = make_subplots(rows=1, cols=1, shared_xaxes=True)\n",
    "for s in range(0,20):\n",
    "    fig.add_trace(\n",
    "        go.Scatter(x=df_plot.columns,\n",
    "                   y=df_plot.loc[s, :].values, name=s,\n",
    "                  mode=\"lines\", opacity=.5),\n",
    "        row=1, col=1,\n",
    "    )\n",
    "fig.show()"
   ]
  },
  {
   "cell_type": "code",
   "execution_count": null,
   "id": "e932c319",
   "metadata": {},
   "outputs": [],
   "source": [
    "# save to csv file\n",
    "df.to_csv(const.DATA_PATH, index=False)"
   ]
  },
  {
   "cell_type": "code",
   "execution_count": null,
   "id": "35b6fb25",
   "metadata": {},
   "outputs": [],
   "source": []
  }
 ],
 "metadata": {
  "kernelspec": {
   "display_name": "Python 3 (ipykernel)",
   "language": "python",
   "name": "python3"
  },
  "language_info": {
   "codemirror_mode": {
    "name": "ipython",
    "version": 3
   },
   "file_extension": ".py",
   "mimetype": "text/x-python",
   "name": "python",
   "nbconvert_exporter": "python",
   "pygments_lexer": "ipython3",
   "version": "3.9.5"
  }
 },
 "nbformat": 4,
 "nbformat_minor": 5
}
