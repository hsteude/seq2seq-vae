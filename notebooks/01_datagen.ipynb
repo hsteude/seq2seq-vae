{
 "cells": [
  {
   "cell_type": "code",
   "execution_count": null,
   "id": "58504660",
   "metadata": {},
   "outputs": [],
   "source": [
    "import os\n",
    "os.chdir('..')"
   ]
  },
  {
   "cell_type": "code",
   "execution_count": null,
   "id": "7647d298",
   "metadata": {},
   "outputs": [],
   "source": [
    "from IPython.core.display import display, HTML\n",
    "display(HTML(\"<style>.container { width:100% !important; }</style>\"))"
   ]
  },
  {
   "cell_type": "code",
   "execution_count": null,
   "id": "050616e7",
   "metadata": {},
   "outputs": [],
   "source": [
    "import numpy as np\n",
    "import pandas as pd\n",
    "import plotly.graph_objects as go\n",
    "from plotly.subplots import make_subplots\n",
    "import constants as const"
   ]
  },
  {
   "cell_type": "code",
   "execution_count": null,
   "id": "1b034473",
   "metadata": {},
   "outputs": [],
   "source": [
    "# constants\n"
   ]
  },
  {
   "cell_type": "code",
   "execution_count": null,
   "id": "7d13c770",
   "metadata": {},
   "outputs": [],
   "source": [
    "# generate samples for hidden states\n",
    "np.random.seed(123)\n",
    "times = np.array(range(const.TIMESTEPS))\n",
    "slopes = np.random.normal(const.SLOPE_MU, const.SLOPE_SIG, const.SAMPLES) \n",
    "intersepts = np.random.normal(const.INTERSEPT_MU, const.INTERSEPT_SIG, const.SAMPLES)\n",
    "values = np.array([intersepts + slopes * t for t in times]).transpose()"
   ]
  },
  {
   "cell_type": "code",
   "execution_count": null,
   "id": "3eec813b",
   "metadata": {},
   "outputs": [],
   "source": [
    "# put in df\n",
    "df = pd.DataFrame(values)\n",
    "df.head()"
   ]
  },
  {
   "cell_type": "code",
   "execution_count": null,
   "id": "509bda1d",
   "metadata": {},
   "outputs": [],
   "source": [
    "# plot some samples\n",
    "df_plot = df.copy()\n",
    "fig = make_subplots(rows=1, cols=1, shared_xaxes=True)\n",
    "for s in range(0,99):\n",
    "    fig.add_trace(\n",
    "        go.Scatter(x=df_plot.columns,\n",
    "                   y=df_plot.loc[s, :].values, name=s,\n",
    "                  mode=\"lines\", opacity=.2),\n",
    "        row=1, col=1,\n",
    "    )\n",
    "fig.show()"
   ]
  },
  {
   "cell_type": "code",
   "execution_count": null,
   "id": "cb29913b",
   "metadata": {},
   "outputs": [],
   "source": [
    "# # save to csv file\n",
    "# df.to_csv(const.DATA_PATH, index=False)"
   ]
  },
  {
   "cell_type": "code",
   "execution_count": null,
   "id": "7e747dc8",
   "metadata": {},
   "outputs": [],
   "source": [
    "def scale_single_ts(vals, mean, std):\n",
    "    return (vals - mean) / std\n",
    "import matplotlib.pyplot as plt\n",
    "df_scaled = pd.DataFrame(np.array([scale_single_ts(df.values[i,:],\n",
    "                          df.values[:,-1].mean(),\n",
    "                          df.values[:,-1].std())\n",
    "          for i in range(df.shape[0])]))\n"
   ]
  },
  {
   "cell_type": "code",
   "execution_count": null,
   "id": "3899de16",
   "metadata": {},
   "outputs": [],
   "source": [
    "df.values[:,-1].std()"
   ]
  },
  {
   "cell_type": "code",
   "execution_count": null,
   "id": "302a288e",
   "metadata": {},
   "outputs": [],
   "source": []
  },
  {
   "cell_type": "code",
   "execution_count": null,
   "id": "85e8557d",
   "metadata": {},
   "outputs": [],
   "source": []
  },
  {
   "cell_type": "code",
   "execution_count": null,
   "id": "18bcf470",
   "metadata": {},
   "outputs": [],
   "source": [
    "# from sklearn.preprocessing import StandardScaler,MinMaxScaler\n",
    "# # scaler = StandardScaler()\n",
    "# scaler = MinMaxScaler()\n",
    "\n",
    "# df_scaled = pd.DataFrame(scaler.fit_transform(df.values))"
   ]
  },
  {
   "cell_type": "code",
   "execution_count": null,
   "id": "fc3f4f00",
   "metadata": {},
   "outputs": [],
   "source": [
    "df_scaled"
   ]
  },
  {
   "cell_type": "code",
   "execution_count": null,
   "id": "0c522cb6",
   "metadata": {},
   "outputs": [],
   "source": [
    "# df_plot = dataset.df_scaled.copy()\n",
    "df_plot = df_scaled.copy()\n",
    "fig = make_subplots(rows=1, cols=1, shared_xaxes=True)\n",
    "for s in range(0,99):\n",
    "    fig.add_trace(\n",
    "        go.Scatter(x=df_plot.columns,\n",
    "                   y=df_plot.loc[s, :].values, name=s,\n",
    "                  mode=\"lines\", opacity=.2),\n",
    "        row=1, col=1,\n",
    "    )\n",
    "fig.show()"
   ]
  },
  {
   "cell_type": "code",
   "execution_count": null,
   "id": "e932c319",
   "metadata": {},
   "outputs": [],
   "source": [
    "# save to csv file\n",
    "df_scaled.to_csv(const.DATA_PATH, index=False)"
   ]
  },
  {
   "cell_type": "code",
   "execution_count": null,
   "id": "8fb0259e",
   "metadata": {},
   "outputs": [],
   "source": [
    "from vae_ts_test.dataset import SimpleRandomCurvesDataset\n",
    "import constants as const"
   ]
  },
  {
   "cell_type": "code",
   "execution_count": null,
   "id": "b4acc26b",
   "metadata": {},
   "outputs": [],
   "source": [
    "dataset = SimpleRandomCurvesDataset(csv_file=const.DATA_PATH)"
   ]
  },
  {
   "cell_type": "code",
   "execution_count": null,
   "id": "752059fd",
   "metadata": {},
   "outputs": [],
   "source": [
    "dataset.df_scaled.tail()"
   ]
  },
  {
   "cell_type": "code",
   "execution_count": null,
   "id": "fd3ddcbf",
   "metadata": {},
   "outputs": [],
   "source": []
  }
 ],
 "metadata": {
  "kernelspec": {
   "display_name": "Python 3",
   "language": "python",
   "name": "python3"
  },
  "language_info": {
   "codemirror_mode": {
    "name": "ipython",
    "version": 3
   },
   "file_extension": ".py",
   "mimetype": "text/x-python",
   "name": "python",
   "nbconvert_exporter": "python",
   "pygments_lexer": "ipython3",
   "version": "3.9.5"
  }
 },
 "nbformat": 4,
 "nbformat_minor": 5
}
