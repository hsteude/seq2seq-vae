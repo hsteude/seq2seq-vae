{
 "cells": [
  {
   "cell_type": "code",
   "execution_count": null,
   "id": "58504660",
   "metadata": {},
   "outputs": [],
   "source": [
    "import os\n",
    "os.chdir('..')"
   ]
  },
  {
   "cell_type": "code",
   "execution_count": null,
   "id": "7647d298",
   "metadata": {},
   "outputs": [],
   "source": [
    "from IPython.core.display import display, HTML\n",
    "display(HTML(\"<style>.container { width:100% !important; }</style>\"))"
   ]
  },
  {
   "cell_type": "code",
   "execution_count": null,
   "id": "050616e7",
   "metadata": {},
   "outputs": [],
   "source": [
    "import numpy as np\n",
    "import pandas as pd\n",
    "import plotly.graph_objects as go\n",
    "from plotly.subplots import make_subplots\n",
    "import constants as const\n",
    "from ipywidgets import interact\n",
    "import ipywidgets as widgets\n",
    "%load_ext autoreload\n",
    "%autoreload 2"
   ]
  },
  {
   "cell_type": "code",
   "execution_count": null,
   "id": "1b034473",
   "metadata": {},
   "outputs": [],
   "source": [
    "# constants"
   ]
  },
  {
   "cell_type": "code",
   "execution_count": null,
   "id": "7d13c770",
   "metadata": {},
   "outputs": [],
   "source": [
    "# generate samples for hidden states\n",
    "np.random.seed(123)\n",
    "times = np.array(range(const.TIMESTEPS))\n",
    "freq = np.random.uniform(const.FREQ_MIN, const.FREQ_MAX, const.SAMPLES)\n",
    "amp1 = np.random.uniform(const.AMP_MIN, const.AMP_MAX, const.SAMPLES)\n",
    "# amp2 = np.random.uniform(const.AMP_MIN, const.AMP_MAX, const.SAMPLES)\n",
    "amp2 = .7 *amp1\n",
    "phi = np.random.uniform(const.PHI_MIN, const.PHI_MAX, const.SAMPLES)\n",
    "values_s1 = np.array([amp1 * np.sin(2*np.pi*freq*t) for t in times]).transpose()\n",
    "values_s2 = np.array([amp2 * np.sin(2*np.pi*freq*t - phi*np.pi) for t in times]).transpose()"
   ]
  },
  {
   "cell_type": "code",
   "execution_count": null,
   "id": "2497e149",
   "metadata": {},
   "outputs": [],
   "source": [
    "# organize in tidy dataframe\n",
    "times_all = np.array(list(times)*const.SAMPLES)\n",
    "signal_1 = values_s1.ravel()\n",
    "signal_2 = values_s2.ravel()\n",
    "index_ls = np.array([np.array([i]*const.TIMESTEPS) for i in range(const.SAMPLES)]).ravel()\n",
    "df = pd.DataFrame(dict(sample_idx=index_ls, time=times_all, signal_1=signal_1, signal_2=signal_2))"
   ]
  },
  {
   "cell_type": "code",
   "execution_count": null,
   "id": "33400c10",
   "metadata": {},
   "outputs": [],
   "source": [
    "df.sample_idx.unique()"
   ]
  },
  {
   "cell_type": "code",
   "execution_count": null,
   "id": "ae97e379",
   "metadata": {},
   "outputs": [],
   "source": [
    "phi.max()"
   ]
  },
  {
   "cell_type": "code",
   "execution_count": null,
   "id": "509bda1d",
   "metadata": {},
   "outputs": [],
   "source": [
    "# plot some samples\n",
    "def plot_samples(s):\n",
    "    df_plot = df.copy()\n",
    "    fig = make_subplots(rows=1, cols=1, shared_xaxes=True)\n",
    "    df_plot = df_plot[df_plot.sample_idx == s]\n",
    "    for s, r in zip(['signal_1', 'signal_2'], [1, 1]):\n",
    "        fig.add_trace(\n",
    "            go.Scatter(x=df_plot.time,\n",
    "                       y=df_plot[s].values, name=s,\n",
    "                      mode=\"lines\", opacity=.5),\n",
    "            row=r, col=1,\n",
    "        )\n",
    "    fig.update_layout(title_text=\"2d time series training samples\")\n",
    "    fig.update_xaxes(title_text='time')\n",
    "    fig.show()\n",
    "interact(plot_samples, s=df.sample_idx.unique())"
   ]
  },
  {
   "cell_type": "code",
   "execution_count": null,
   "id": "e932c319",
   "metadata": {},
   "outputs": [],
   "source": [
    "# save to csv file\n",
    "df.to_csv(const.DATA_PATH, index=False)"
   ]
  },
  {
   "cell_type": "code",
   "execution_count": null,
   "id": "f8e19f50",
   "metadata": {},
   "outputs": [],
   "source": [
    "# also write hidden states to file!\n",
    "df_hidden_states = pd.DataFrame(dict(\n",
    "    amp1=amp1,\n",
    "#     amp2=amp2,\n",
    "    phi=phi,\n",
    "    freq=freq\n",
    "))\n",
    "df_hidden_states.to_csv(const.HIDDEN_STATE_PATH, index=False)"
   ]
  },
  {
   "cell_type": "code",
   "execution_count": null,
   "id": "b9ece44f",
   "metadata": {},
   "outputs": [],
   "source": [
    "df[df.sample_idx==1].head()"
   ]
  },
  {
   "cell_type": "code",
   "execution_count": null,
   "id": "5f330203",
   "metadata": {},
   "outputs": [],
   "source": [
    "df_hidden_states.head()"
   ]
  },
  {
   "cell_type": "code",
   "execution_count": null,
   "id": "c317d36e",
   "metadata": {},
   "outputs": [],
   "source": []
  }
 ],
 "metadata": {
  "kernelspec": {
   "display_name": "Python 3",
   "language": "python",
   "name": "python3"
  },
  "language_info": {
   "codemirror_mode": {
    "name": "ipython",
    "version": 3
   },
   "file_extension": ".py",
   "mimetype": "text/x-python",
   "name": "python",
   "nbconvert_exporter": "python",
   "pygments_lexer": "ipython3",
   "version": "3.9.5"
  }
 },
 "nbformat": 4,
 "nbformat_minor": 5
}
