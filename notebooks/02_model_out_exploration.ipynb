{
 "cells": [
  {
   "cell_type": "code",
   "execution_count": null,
   "id": "02408781",
   "metadata": {},
   "outputs": [],
   "source": [
    "import os\n",
    "os.chdir('..')"
   ]
  },
  {
   "cell_type": "code",
   "execution_count": null,
   "id": "6fe89545",
   "metadata": {},
   "outputs": [],
   "source": [
    "from IPython.core.display import display, HTML\n",
    "display(HTML(\"<style>.container { width:100% !important; }</style>\"))"
   ]
  },
  {
   "cell_type": "code",
   "execution_count": null,
   "id": "9280770b",
   "metadata": {},
   "outputs": [],
   "source": [
    "from vae_ts_test.dataset import SimpleRandomCurvesDataset\n",
    "import constants as const\n",
    "from torch.utils.data import DataLoader\n",
    "from vae_ts_test.vae import VAE\n",
    "import yaml\n",
    "import pandas as pd\n",
    "from plotly.subplots import make_subplots\n",
    "import plotly.graph_objects as go\n",
    "from ipywidgets import interact\n",
    "import ipywidgets as widgets\n",
    "%load_ext autoreload\n",
    "%autoreload 2"
   ]
  },
  {
   "cell_type": "code",
   "execution_count": null,
   "id": "7fb261fc",
   "metadata": {},
   "outputs": [],
   "source": [
    "dataset = SimpleRandomCurvesDataset(const.DATA_PATH)\n",
    "dataset.df_scaled.head()"
   ]
  },
  {
   "cell_type": "code",
   "execution_count": null,
   "id": "907c00fc",
   "metadata": {},
   "outputs": [],
   "source": [
    "batch_size = 10\n",
    "dataloader = DataLoader(dataset, batch_size=batch_size, num_workers=24)"
   ]
  },
  {
   "cell_type": "code",
   "execution_count": null,
   "id": "9cbc3f1c",
   "metadata": {},
   "outputs": [],
   "source": [
    "MODEL_VERSION = 23\n",
    "hparams_path = f'./lightning_logs/version_{MODEL_VERSION}/hparams.yaml'\n",
    "with open(hparams_path, 'r') as stream:\n",
    "        hparam_dct = yaml.safe_load(stream)\n",
    "ckpt_file_name = os.listdir(f'./lightning_logs/version_{MODEL_VERSION}/checkpoints/')[-1]\n",
    "ckpt_file_path = f'./lightning_logs/version_{MODEL_VERSION}/checkpoints/{ckpt_file_name}'\n",
    "model = VAE.load_from_checkpoint(ckpt_file_path)\n",
    "model"
   ]
  },
  {
   "cell_type": "code",
   "execution_count": null,
   "id": "46128c0d",
   "metadata": {},
   "outputs": [],
   "source": [
    "x_batch = iter(dataloader).next()\n",
    "x_batch.shape"
   ]
  },
  {
   "cell_type": "code",
   "execution_count": null,
   "id": "0b22cf9e",
   "metadata": {},
   "outputs": [],
   "source": [
    "mu_z, std_z, z_sample, mu_x, std_x = model.eval()(x_batch)"
   ]
  },
  {
   "cell_type": "code",
   "execution_count": null,
   "id": "9180fe68",
   "metadata": {},
   "outputs": [],
   "source": [
    "std_x"
   ]
  },
  {
   "cell_type": "code",
   "execution_count": null,
   "id": "fcf56e41",
   "metadata": {},
   "outputs": [],
   "source": [
    "df_x = pd.DataFrame(x_batch.detach().numpy().reshape(batch_size, 30))\n",
    "df_x.head()"
   ]
  },
  {
   "cell_type": "code",
   "execution_count": null,
   "id": "2ef18e0f",
   "metadata": {},
   "outputs": [],
   "source": [
    "df_mu_x = pd.DataFrame(mu_x.detach().numpy().reshape(batch_size, 30))\n",
    "df_mu_x.head()"
   ]
  },
  {
   "cell_type": "code",
   "execution_count": null,
   "id": "75cb1981",
   "metadata": {},
   "outputs": [],
   "source": [
    "index = 1\n",
    "std = [.1]*30\n",
    "y_upper = df_mu_x.loc[index, :].values + df_mu_x.loc[index, :].values * std\n",
    "y_lower = df_mu_x.loc[index, :].values - df_mu_x.loc[index, :].values * std"
   ]
  },
  {
   "cell_type": "code",
   "execution_count": null,
   "id": "34f3316d",
   "metadata": {},
   "outputs": [],
   "source": [
    "def recon_plot(index):\n",
    "    fig = make_subplots(rows=1, cols=1, shared_xaxes=True)\n",
    "    for df, name, colour in zip([df_x, df_mu_x], ['x', 'p(x|z)'], ['rgb(0,0,100)', 'rgba(192,58,58)']):\n",
    "        fig.add_trace(\n",
    "            go.Scatter(x=df.columns,\n",
    "                       y=df.loc[index, :].values, name=name,\n",
    "                        line=dict(color=colour),\n",
    "\n",
    "                      mode=\"lines\", opacity=.5),\n",
    "            row=1, col=1,\n",
    "        )\n",
    "    x = list(df_mu_x.columns)\n",
    "    y = df_mu_x.loc[index, :].values\n",
    "    log_scale = model.log_scale_diag.detach().numpy()\n",
    "    std = np.exp(log_scale)\n",
    "    y_upper = list(y + std)\n",
    "    y_lower = list(y - std)\n",
    "\n",
    "    fig.add_trace(go.Scatter(\n",
    "        x=x+x[::-1], # x, then x reversed\n",
    "        y=y_upper+y_lower[::-1], # upper, then lower reversed\n",
    "        fill='toself',\n",
    "        fillcolor='rgba(192,58,58,0.1)',\n",
    "        line=dict(color='rgba(255,255,255,0)'),\n",
    "        hoverinfo=\"skip\",\n",
    "        showlegend=False\n",
    "        )\n",
    "    )\n",
    "    fig.show()\n",
    "interact(recon_plot, index=df_x.index)"
   ]
  },
  {
   "cell_type": "code",
   "execution_count": null,
   "id": "31d100da",
   "metadata": {},
   "outputs": [],
   "source": [
    "mu_z"
   ]
  },
  {
   "cell_type": "code",
   "execution_count": null,
   "id": "61a38929",
   "metadata": {},
   "outputs": [],
   "source": [
    "std_z"
   ]
  },
  {
   "cell_type": "code",
   "execution_count": null,
   "id": "4c85aed3",
   "metadata": {},
   "outputs": [],
   "source": [
    "model.log_scale_diag"
   ]
  },
  {
   "cell_type": "code",
   "execution_count": null,
   "id": "a9c8e541",
   "metadata": {},
   "outputs": [],
   "source": [
    "import torch\n",
    "import numpy as np\n",
    "import matplotlib.pyplot as plt\n",
    "import ipywidgets as widgets"
   ]
  },
  {
   "cell_type": "code",
   "execution_count": null,
   "id": "7c62a413",
   "metadata": {},
   "outputs": [],
   "source": [
    "list(df_mu_x.columns[0:10])"
   ]
  },
  {
   "cell_type": "code",
   "execution_count": null,
   "id": "7fded2f7",
   "metadata": {},
   "outputs": [],
   "source": [
    "len(x)"
   ]
  },
  {
   "cell_type": "code",
   "execution_count": null,
   "id": "73ef4dc0",
   "metadata": {},
   "outputs": [],
   "source": [
    "x = list(df_mu_x.columns)\n",
    "y = df_mu_x.loc[index, :].values\n",
    "y_upper = list(y + std)\n",
    "y_lower = list(y - std)\n",
    "\n",
    "\n",
    "fig = go.Figure([\n",
    "    go.Scatter(\n",
    "        x=x,\n",
    "        y=y,\n",
    "        line=dict(color='rgb(0,100,80)'),\n",
    "        mode='lines'\n",
    "    ),\n",
    "    go.Scatter(\n",
    "        x=x+x[::-1], # x, then x reversed\n",
    "        y=y_upper+y_lower[::-1], # upper, then lower reversed\n",
    "        fill='toself',\n",
    "        fillcolor='rgba(0,100,80,0.2)',\n",
    "        line=dict(color='rgba(255,255,255,0)'),\n",
    "        hoverinfo=\"skip\",\n",
    "        showlegend=False\n",
    "    )\n",
    "])\n",
    "fig.show()"
   ]
  },
  {
   "cell_type": "code",
   "execution_count": null,
   "id": "dfcd756f",
   "metadata": {},
   "outputs": [],
   "source": [
    "x = [1, 2, 3, 4, 5, 6, 7, 8, 9, 10]\n",
    "y = [1, 2, 7, 4, 5, 6, 7, 8, 9, 10]\n",
    "y_upper = [2, 3, 8, 5, 6, 7, 8, 9, 10, 11]\n",
    "y_lower = [0, 1, 5, 3, 4, 5, 6, 7, 8, 9]\n",
    "\n",
    "\n",
    "fig = go.Figure([\n",
    "    go.Scatter(\n",
    "        x=x,\n",
    "        y=y,\n",
    "        line=dict(color='rgb(0,100,80)'),\n",
    "        mode='lines'\n",
    "    ),\n",
    "    go.Scatter(\n",
    "        x=x+x[::-1], # x, then x reversed\n",
    "        y=y_upper+y_lower[::-1], # upper, then lower reversed\n",
    "        fill='toself',\n",
    "        fillcolor='rgba(0,100,80,0.2)',\n",
    "        line=dict(color='rgba(255,255,255,0)'),\n",
    "        hoverinfo=\"skip\",\n",
    "        showlegend=False\n",
    "    )\n",
    "])\n",
    "fig.show()"
   ]
  },
  {
   "cell_type": "code",
   "execution_count": null,
   "id": "b016e2ea",
   "metadata": {},
   "outputs": [],
   "source": [
    "np.exp(model.log_scale_diag.detach().numpy())"
   ]
  },
  {
   "cell_type": "code",
   "execution_count": null,
   "id": "d0a05c9e",
   "metadata": {},
   "outputs": [],
   "source": [
    "def plot_generated(z1, z2, z3):\n",
    "    out = model.decoder.forward(torch.tensor(np.array([z1,  z2, z3]).astype(np.float32)))\n",
    "    fig = make_subplots(rows=1, cols=1, shared_xaxes=True)\n",
    "    x = np.array(range(len(out)))\n",
    "    sig = np.exp(model.log_scale_diag.detach().numpy())\n",
    "    out_upper = out.detach().numpy() + sig*out.detach().numpy()\n",
    "    out_lower = out.detach().numpy() + sig*out.detach().numpy()\n",
    "    print(sig)\n",
    "#     print\n",
    "#     for df in [df_x, df_mu_x]:\n",
    "#         fig.add_trace(\n",
    "#             go.Scatter(x=x,\n",
    "#                        y=out.detach().numpy(),\n",
    "#                       mode=\"lines\", opacity=.5),\n",
    "#             row=1, col=1,\n",
    "#         )\n",
    "    fig.add_trace(go.Scatter(\n",
    "        x=x+x[::-1], # x, then x reversed\n",
    "        y=out_upper+out_lower[::-1], # upper, then lower reversed\n",
    "        fill='toself',\n",
    "        fillcolor='rgba(0,100,80,0.2)',\n",
    "        line=dict(color='rgba(255,255,255,0)'),\n",
    "        hoverinfo=\"skip\",\n",
    "        showlegend=False\n",
    "    ))\n",
    "    fig.show()\n",
    "\n",
    "ranges = [widgets.IntSlider(min=-10,max=10,step=1,value=0) for i in range(3)]\n",
    "interact(plot_generated, z1=ranges[0], z2=ranges[1], z3=ranges[2])"
   ]
  },
  {
   "cell_type": "code",
   "execution_count": null,
   "id": "e0f3ba76",
   "metadata": {},
   "outputs": [],
   "source": [
    "np.diag([1, 1, 1])"
   ]
  },
  {
   "cell_type": "code",
   "execution_count": null,
   "id": "249ba7fa",
   "metadata": {},
   "outputs": [],
   "source": [
    "mu = torch.Tensor([10, 20, 30])\n",
    "sig_diag_log = torch.Tensor([1, 2, 3])\n",
    "sig_diag = torch.exp(sig_diag_log)\n",
    "sig = torch.diag(sig_diag)\n",
    "# sig = torch.Tensor([1])\n",
    "# dist = torch.distributions.Normal(mu, sig)\n",
    "dist =torch.distributions.MultivariateNormal(mu, scale_tril=sig)"
   ]
  },
  {
   "cell_type": "code",
   "execution_count": null,
   "id": "42f4b96f",
   "metadata": {},
   "outputs": [],
   "source": [
    "num_samples = 10_000\n",
    "df_dist = pd.DataFrame(np.array([dist.sample().detach().numpy() for i in range(num_samples)]))\n",
    "fig = go.Figure()\n",
    "for c in df_dist.columns:\n",
    "    fig.add_trace(go.Histogram(x=df_dist[c]))\n",
    "\n",
    "# Overlay both histograms\n",
    "fig.update_layout(barmode='overlay')\n",
    "# Reduce opacity to see both histograms\n",
    "fig.update_traces(opacity=0.75)\n",
    "fig.show()"
   ]
  },
  {
   "cell_type": "code",
   "execution_count": null,
   "id": "2cddcbd8",
   "metadata": {},
   "outputs": [],
   "source": [
    "loc = torch.zeros(3)\n",
    "scale = torch.ones(3)\n",
    "# mvn = torch.distributions.MultivariateNormal(loc, scale_tril=torch.diag(scale))\n",
    "mvn = torch.distributions.MultivariateNormal(loc, scale_tril=sig)\n"
   ]
  },
  {
   "cell_type": "code",
   "execution_count": null,
   "id": "7b83b0d3",
   "metadata": {},
   "outputs": [],
   "source": [
    "torch.diag(scale)"
   ]
  },
  {
   "cell_type": "code",
   "execution_count": null,
   "id": "08ec4724",
   "metadata": {},
   "outputs": [],
   "source": [
    "mvn"
   ]
  },
  {
   "cell_type": "code",
   "execution_count": null,
   "id": "f0dee247",
   "metadata": {},
   "outputs": [],
   "source": [
    "np.exp(1)"
   ]
  },
  {
   "cell_type": "code",
   "execution_count": null,
   "id": "d3468533",
   "metadata": {},
   "outputs": [],
   "source": []
  }
 ],
 "metadata": {
  "kernelspec": {
   "display_name": "Python 3 (ipykernel)",
   "language": "python",
   "name": "python3"
  },
  "language_info": {
   "codemirror_mode": {
    "name": "ipython",
    "version": 3
   },
   "file_extension": ".py",
   "mimetype": "text/x-python",
   "name": "python",
   "nbconvert_exporter": "python",
   "pygments_lexer": "ipython3",
   "version": "3.9.5"
  }
 },
 "nbformat": 4,
 "nbformat_minor": 5
}
