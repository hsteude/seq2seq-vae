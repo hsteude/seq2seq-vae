{
 "cells": [
  {
   "cell_type": "code",
   "execution_count": null,
   "id": "02408781",
   "metadata": {},
   "outputs": [],
   "source": [
    "import os\n",
    "os.chdir('..')"
   ]
  },
  {
   "cell_type": "code",
   "execution_count": null,
   "id": "6fe89545",
   "metadata": {},
   "outputs": [],
   "source": [
    "from IPython.core.display import display, HTML\n",
    "display(HTML(\"<style>.container { width:100% !important; }</style>\"))"
   ]
  },
  {
   "cell_type": "code",
   "execution_count": null,
   "id": "9280770b",
   "metadata": {},
   "outputs": [],
   "source": [
    "from vae_ts_test.dataset import SimpleRandomCurvesDataset\n",
    "import constants as const\n",
    "from torch.utils.data import DataLoader\n",
    "import yaml\n",
    "import pandas as pd\n",
    "import torch\n",
    "import numpy as np\n",
    "import matplotlib.pyplot as plt\n",
    "from plotly.subplots import make_subplots\n",
    "import plotly.graph_objects as go\n",
    "from ipywidgets import interact\n",
    "import ipywidgets as widgets\n",
    "%load_ext autoreload\n",
    "%autoreload 2"
   ]
  },
  {
   "cell_type": "code",
   "execution_count": null,
   "id": "7fb261fc",
   "metadata": {},
   "outputs": [],
   "source": [
    "dataset = SimpleRandomCurvesDataset(const.DATA_PATH, const.HIDDEN_STATE_PATH)\n",
    "dataset.df_data.head()"
   ]
  },
  {
   "cell_type": "code",
   "execution_count": null,
   "id": "907c00fc",
   "metadata": {},
   "outputs": [],
   "source": [
    "batch_size = 100\n",
    "dataloader = DataLoader(dataset, batch_size=batch_size, num_workers=24)"
   ]
  },
  {
   "cell_type": "code",
   "execution_count": null,
   "id": "9cbc3f1c",
   "metadata": {},
   "outputs": [],
   "source": [
    "from vae_ts_test.vae_rnn import VAE\n",
    "\n",
    "MODEL_VERSION = 18\n",
    "hparams_path = f'./lightning_logs/version_{MODEL_VERSION}/hparams.yaml'\n",
    "with open(hparams_path, 'r') as stream:\n",
    "        hparam_dct = yaml.safe_load(stream)\n",
    "ckpt_file_name = os.listdir(f'./lightning_logs/version_{MODEL_VERSION}/checkpoints/')[-1]\n",
    "ckpt_file_path = f'./lightning_logs/version_{MODEL_VERSION}/checkpoints/{ckpt_file_name}'\n",
    "model = VAE.load_from_checkpoint(ckpt_file_path)\n",
    "model"
   ]
  },
  {
   "cell_type": "code",
   "execution_count": null,
   "id": "135b3595",
   "metadata": {},
   "outputs": [],
   "source": [
    "batches = iter(dataloader)"
   ]
  },
  {
   "cell_type": "code",
   "execution_count": null,
   "id": "46128c0d",
   "metadata": {},
   "outputs": [],
   "source": [
    "x_batch, idxs = batches.next()\n",
    "x_batch.shape"
   ]
  },
  {
   "cell_type": "code",
   "execution_count": null,
   "id": "0b22cf9e",
   "metadata": {},
   "outputs": [],
   "source": [
    "mu_z, std_z, z_sample, mu_x, std_x = model.eval()(x_batch)"
   ]
  },
  {
   "cell_type": "code",
   "execution_count": null,
   "id": "cf4c32ef",
   "metadata": {},
   "outputs": [],
   "source": [
    "mu_z.shape"
   ]
  },
  {
   "cell_type": "code",
   "execution_count": null,
   "id": "79b7b30c",
   "metadata": {},
   "outputs": [],
   "source": [
    "std_z.shape"
   ]
  },
  {
   "cell_type": "code",
   "execution_count": null,
   "id": "34f3316d",
   "metadata": {},
   "outputs": [],
   "source": [
    "def recon_plot(index):\n",
    "    x=list(range(const.TIMESTEPS))\n",
    "    x_sensor_1 = x_batch.detach().numpy()[index, :, 0]\n",
    "    x_sensor_2 = x_batch.detach().numpy()[index, :, 1]\n",
    "    mu_rec_sensor_1 = mu_x.detach().numpy()[index, :, 0]\n",
    "    mu_rec_sensor_2 = mu_x.detach().numpy()[index, :, 1]\n",
    "    log_scale = model.log_scale_diag.detach().numpy()\n",
    "    std = np.exp(log_scale)\n",
    "    std = std.reshape(-1, 2)\n",
    "    sensor_1_upper = list(mu_rec_sensor_1 + std[:, 0])\n",
    "    sensor_2_upper = list(mu_rec_sensor_2 + std[:, 1])\n",
    "    sensor_1_lower = list(mu_rec_sensor_1 - std[:, 0])\n",
    "    sensor_2_lower = list(mu_rec_sensor_2 - std[:, 1])\n",
    "\n",
    "\n",
    "    fig = make_subplots(rows=2, cols=1, shared_xaxes=True)\n",
    "    # signal 1\n",
    "    for sig, name, colour in zip([x_sensor_1, mu_rec_sensor_1], ['x_s1', 'p(x_s2|z)'], ['rgb(0,0,100)', 'rgba(192,58,58)']):\n",
    "        fig.add_trace(\n",
    "            go.Scatter(x=x,\n",
    "                       y=sig, name=name,\n",
    "                        line=dict(color=colour),\n",
    "\n",
    "                      mode=\"lines\", opacity=.5),\n",
    "            row=1, col=1,\n",
    "        )\n",
    "\n",
    "    fig.add_trace(go.Scatter(\n",
    "        x=x+x[::-1], # x, then x reversed\n",
    "        y=sensor_1_upper + sensor_1_lower[::-1], # upper, then lower reversed\n",
    "        fill='toself',\n",
    "        fillcolor='rgba(192,58,58,0.1)',\n",
    "        line=dict(color='rgba(255,255,255,0)'),\n",
    "        hoverinfo=\"skip\",\n",
    "        showlegend=False\n",
    "        ), row=1, col=1\n",
    "    )\n",
    "    \n",
    "    # signal 2\n",
    "    for sig, name, colour in zip([x_sensor_2, mu_rec_sensor_2], ['x_s2', 'p(x_s2|z)'], ['rgb(0,0,100)', 'rgba(192,58,58)']):\n",
    "        fig.add_trace(\n",
    "            go.Scatter(x=x,\n",
    "                       y=sig, name=name,\n",
    "                        line=dict(color=colour),\n",
    "\n",
    "                      mode=\"lines\", opacity=.5),\n",
    "            row=2, col=1,\n",
    "        )\n",
    "\n",
    "    fig.add_trace(go.Scatter(\n",
    "        x=x+x[::-1], # x, then x reversed\n",
    "        y=sensor_2_upper + sensor_2_lower[::-1], # upper, then lower reversed\n",
    "        fill='toself',\n",
    "        fillcolor='rgba(192,58,58,0.1)',\n",
    "        line=dict(color='rgba(255,255,255,0)'),\n",
    "        hoverinfo=\"skip\",\n",
    "        showlegend=False\n",
    "        ),\n",
    "        row=2, col=1,\n",
    "    )\n",
    "    fig.show()\n",
    "interact(recon_plot, index=range(batch_size))"
   ]
  },
  {
   "cell_type": "markdown",
   "id": "896f3e33",
   "metadata": {},
   "source": [
    "## What about the latent space?"
   ]
  },
  {
   "cell_type": "code",
   "execution_count": null,
   "id": "4a48fc26",
   "metadata": {},
   "outputs": [],
   "source": [
    "mu_z.detach().numpy().reshape(mu_z.shape[0], mu_z.shape[2]).shape"
   ]
  },
  {
   "cell_type": "code",
   "execution_count": null,
   "id": "9cade621",
   "metadata": {},
   "outputs": [],
   "source": [
    "df_latent_mu = pd.DataFrame(mu_z.detach().numpy().reshape(mu_z.shape[0], mu_z.shape[2]), columns=[f'mu_{i}' for i in range(const.HPARAMS['latent_dim'])])\n",
    "df_latent_mu.head()"
   ]
  },
  {
   "cell_type": "code",
   "execution_count": null,
   "id": "75b22889",
   "metadata": {},
   "outputs": [],
   "source": [
    "df_latent_std = pd.DataFrame(std_z.detach().numpy().reshape(mu_z.shape[0], mu_z.shape[2]), columns=[f'std_{i}' for i in range(const.HPARAMS['latent_dim'])])\n",
    "df_latent_std.head()"
   ]
  },
  {
   "cell_type": "code",
   "execution_count": null,
   "id": "c1a5ee54",
   "metadata": {},
   "outputs": [],
   "source": [
    "df_hidden_states = pd.read_csv(const.HIDDEN_STATE_PATH)\n",
    "df_hidden_states[df_hidden_states.index.isin(idxs.detach().numpy())]\n",
    "df_hidden_states.head()"
   ]
  },
  {
   "cell_type": "code",
   "execution_count": null,
   "id": "501d3fc2",
   "metadata": {},
   "outputs": [],
   "source": [
    "fig = make_subplots(rows=4, cols=4)\n",
    "\n",
    "for i, hs in enumerate(df_hidden_states.columns):\n",
    "    for j, hs_pred in enumerate(df_latent_mu.columns):\n",
    "        fig.add_trace(go.Scatter(x=df_hidden_states[hs], y=df_latent_mu[hs_pred],\n",
    "                            mode='markers', name=f'activation {hs_pred} over box_x',\n",
    "                                marker_color='#1f77b4'),\n",
    "                     row=i+1, col=j+1)\n",
    "\n",
    "# # Update xaxis properties\n",
    "for i in range(const.HPARAMS['latent_dim']):\n",
    "    fig.update_xaxes(title_text=df_hidden_states.columns[0], row=1, col=i+1)\n",
    "    fig.update_xaxes(title_text=df_hidden_states.columns[1], row=2, col=i+1)\n",
    "    fig.update_xaxes(title_text=df_hidden_states.columns[2], row=3, col=i+1)\n",
    "    fig.update_xaxes(title_text=df_hidden_states.columns[3], row=4, col=i+1)\n",
    "\n",
    "for l in range(len(df_hidden_states)):\n",
    "        fig.update_yaxes(title_text=f\"Activation l_{l}\", row=l+1, col=1)\n",
    "\n",
    "fig.update_layout(height=1000, width=1200, title_text=\"Latent neuron activations vs. hidden states\", showlegend=False)\n",
    "fig.show()\n",
    "\n"
   ]
  },
  {
   "cell_type": "code",
   "execution_count": null,
   "id": "96c69074",
   "metadata": {},
   "outputs": [],
   "source": [
    "fig = go.Figure()\n",
    "for col in df_latent_mu.columns:\n",
    "    fig.add_trace(go.Histogram(x=df_latent_mu[col], name=col))\n",
    "\n",
    "# Overlay both histograms\n",
    "fig.update_layout(barmode='overlay')\n",
    "# Reduce opacity to see both histograms\n",
    "fig.update_traces(opacity=0.5)\n",
    "fig.show()\n"
   ]
  },
  {
   "cell_type": "code",
   "execution_count": null,
   "id": "f7a235e0",
   "metadata": {},
   "outputs": [],
   "source": [
    "fig = go.Figure()\n",
    "for col in df_latent_std.columns:\n",
    "    fig.add_trace(go.Histogram(x=df_latent_std[col], name=col))\n",
    "\n",
    "# Overlay both histograms\n",
    "fig.update_layout(barmode='overlay')\n",
    "# Reduce opacity to see both histograms\n",
    "fig.update_traces(opacity=0.5)\n",
    "fig.show()\n"
   ]
  },
  {
   "cell_type": "code",
   "execution_count": null,
   "id": "d0a05c9e",
   "metadata": {},
   "outputs": [],
   "source": [
    "def plot_generated(z1, z2, z3, z4):\n",
    "    out = model.decoder.forward(torch.tensor(np.array([z1, z2, z3, z4]).astype(np.float32)))\n",
    "    print(out.shape)\n",
    "    fig = make_subplots(rows=1, cols=1, shared_xaxes=True)\n",
    "#     x = np.array(range(len(out)))\n",
    "#     sig = np.exp(model.log_scale_diag.detach().numpy())\n",
    "#     out_upper = out.detach().numpy() + sig*out.detach().numpy()\n",
    "#     out_lower = out.detach().numpy() + sig*out.detach().numpy()\n",
    "#     for df in [mu_x, df_mu_x]:\n",
    "    fig.add_trace(\n",
    "        go.Scatter(x=list(range(50)),\n",
    "                   y=out.detach().numpy()[0, :, 0],\n",
    "                  mode=\"lines\", opacity=.5),\n",
    "        row=1, col=1,\n",
    "    )\n",
    "#     fig.add_trace(go.Scatter(\n",
    "#         x=x+x[::-1], # x, then x reversed\n",
    "#         y=out_upper+out_lower[::-1], # upper, then lower reversed\n",
    "#         fill='toself',\n",
    "#         fillcolor='rgba(0,100,80,0.2)',\n",
    "#         line=dict(color='rgba(255,255,255,0)'),\n",
    "#         hoverinfo=\"skip\",\n",
    "#         showlegend=False\n",
    "#     ))\n",
    "    fig.show()\n",
    "\n",
    "ranges = [widgets.IntSlider(min=-3,max=3,step=.1,value=0) for i in range(4)]\n",
    "interact(plot_generated, z1=ranges[0], z2=ranges[1], z3=ranges[2], z4=ranges[3])"
   ]
  },
  {
   "cell_type": "code",
   "execution_count": null,
   "id": "18f7df7d",
   "metadata": {},
   "outputs": [],
   "source": []
  }
 ],
 "metadata": {
  "kernelspec": {
   "display_name": "Python 3 (ipykernel)",
   "language": "python",
   "name": "python3"
  },
  "language_info": {
   "codemirror_mode": {
    "name": "ipython",
    "version": 3
   },
   "file_extension": ".py",
   "mimetype": "text/x-python",
   "name": "python",
   "nbconvert_exporter": "python",
   "pygments_lexer": "ipython3",
   "version": "3.9.5"
  }
 },
 "nbformat": 4,
 "nbformat_minor": 5
}
