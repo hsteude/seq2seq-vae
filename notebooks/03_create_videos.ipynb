{
 "cells": [
  {
   "cell_type": "code",
   "execution_count": null,
   "id": "794f6a6d",
   "metadata": {},
   "outputs": [],
   "source": [
    "import os\n",
    "os.chdir('..')\n",
    "version = 18"
   ]
  },
  {
   "cell_type": "code",
   "execution_count": null,
   "id": "3d1a7062",
   "metadata": {},
   "outputs": [],
   "source": [
    "\n",
    "import cv2\n",
    "import numpy as np\n",
    "import glob\n",
    "version = 64\n",
    " \n",
    "def release_video(filename_str, file_match_pattern):\n",
    "    img_array = []\n",
    "    for filename in sorted(glob.glob(f'./images/version_{version}/{file_match_pattern}.png')):\n",
    "        img = cv2.imread(filename)\n",
    "        height, width, layers = img.shape\n",
    "        size = (width,height)\n",
    "        img_array.append(img)\n",
    "\n",
    "\n",
    "    out = cv2.VideoWriter(f'./images/version_{version}/{filename_str}.mp4',\n",
    "                          cv2.VideoWriter_fourcc(*'mp4v'), 2, size)\n",
    "\n",
    "    for i in range(len(img_array)):\n",
    "        out.write(img_array[i])\n",
    "    out.release()\n",
    "\n",
    "file_name_strings = ['recon_video', 'scatter_video', 'z_distro']\n",
    "file_match_patters = ['recon*', 'scatter*', 'lat*']\n",
    "\n",
    "for fn, fp in zip(file_name_strings, file_match_patters):\n",
    "    release_video(fn, fp)"
   ]
  },
  {
   "cell_type": "code",
   "execution_count": null,
   "id": "04037ae4",
   "metadata": {},
   "outputs": [],
   "source": [
    "img_array = []\n",
    "for filename in sorted(glob.glob(f'./images/version_{version}/scatter*.png')):\n",
    "    img = cv2.imread(filename)\n",
    "    height, width, layers = img.shape\n",
    "    size = (width,height)\n",
    "    img_array.append(img)\n",
    " \n",
    " \n",
    "out = cv2.VideoWriter(f'./images/version_{version}/scatter_video.mp4',cv2.VideoWriter_fourcc(*'mp4v'), 2, size)\n",
    " \n",
    "for i in range(len(img_array)):\n",
    "    out.write(img_array[i])\n",
    "out.release()"
   ]
  },
  {
   "cell_type": "code",
   "execution_count": null,
   "id": "57b062b1",
   "metadata": {},
   "outputs": [],
   "source": [
    "import cv2\n",
    "import numpy as np\n",
    "import glob\n",
    "version = 22\n",
    "s='lat*'\n",
    "glob.glob(f'./images/version_{version}/{s}*.png')"
   ]
  },
  {
   "cell_type": "code",
   "execution_count": null,
   "id": "877e55f8",
   "metadata": {},
   "outputs": [],
   "source": [
    "from IPython.display import HTML\n",
    "\n",
    "HTML(\"\"\"\n",
    "    <video alt=\"test\" controls>\n",
    "        <source src=\"test.mp4\" type=\"video/mp4\">\n",
    "    </video>\n",
    "\"\"\")\n"
   ]
  },
  {
   "cell_type": "code",
   "execution_count": null,
   "id": "4adcb672",
   "metadata": {},
   "outputs": [],
   "source": [
    "from IPython.display import Video\n",
    "\n",
    "Video('./images/version_{version}/recon_video.mp4', embed=True)"
   ]
  },
  {
   "cell_type": "code",
   "execution_count": null,
   "id": "a0dd1ef1",
   "metadata": {},
   "outputs": [],
   "source": [
    "video = open(f'./images/version_{version}/recon_video.mp4', \"rb\").read()"
   ]
  },
  {
   "cell_type": "code",
   "execution_count": null,
   "id": "dc082c58",
   "metadata": {},
   "outputs": [],
   "source": []
  },
  {
   "cell_type": "code",
   "execution_count": null,
   "id": "af4ec1fe",
   "metadata": {},
   "outputs": [],
   "source": [
    "import cv2\n",
    "# check if the video capture is open\n",
    "cap = cv2.VideoCapture(f'./images/version_{version}/scater_video.mp4')\n",
    "\n",
    "if(cap.isOpened() == False):\n",
    "    print(\"Error Opening Video Stream Or File\")\n",
    " \n",
    " \n",
    "# while(cap.isOpened()):\n",
    "#     ret, frame =cap.read()\n",
    " \n",
    "#     if ret == True:\n",
    "#         cv2.imshow('frame', frame)\n",
    " \n",
    "#         if cv2.waitKey(25)  == ord('q'):\n",
    "#             break\n",
    " \n",
    "#     else:\n",
    "#         break\n",
    " \n",
    " \n",
    "# cap.release()\n",
    "# cv2.destroyAllWindows()"
   ]
  },
  {
   "cell_type": "code",
   "execution_count": null,
   "id": "392a3015",
   "metadata": {},
   "outputs": [],
   "source": [
    "pip install python-vlc"
   ]
  },
  {
   "cell_type": "code",
   "execution_count": null,
   "id": "0eb3a08f",
   "metadata": {},
   "outputs": [],
   "source": [
    "import vlc"
   ]
  },
  {
   "cell_type": "code",
   "execution_count": null,
   "id": "48804b2e",
   "metadata": {},
   "outputs": [],
   "source": [
    "ret, frame = cap.read()"
   ]
  },
  {
   "cell_type": "code",
   "execution_count": null,
   "id": "e051a635",
   "metadata": {},
   "outputs": [],
   "source": [
    "ret"
   ]
  },
  {
   "cell_type": "code",
   "execution_count": null,
   "id": "98a771a1",
   "metadata": {},
   "outputs": [],
   "source": [
    "import matplotlib.pyplot as plt\n",
    "plt.imshow(frame)"
   ]
  },
  {
   "cell_type": "code",
   "execution_count": null,
   "id": "95f1c19c",
   "metadata": {},
   "outputs": [],
   "source": [
    "import os\n",
    "os.listdir()"
   ]
  },
  {
   "cell_type": "code",
   "execution_count": null,
   "id": "7307fba0",
   "metadata": {},
   "outputs": [],
   "source": []
  }
 ],
 "metadata": {
  "kernelspec": {
   "display_name": "Python 3 (ipykernel)",
   "language": "python",
   "name": "python3"
  },
  "language_info": {
   "codemirror_mode": {
    "name": "ipython",
    "version": 3
   },
   "file_extension": ".py",
   "mimetype": "text/x-python",
   "name": "python",
   "nbconvert_exporter": "python",
   "pygments_lexer": "ipython3",
   "version": "3.9.5"
  }
 },
 "nbformat": 4,
 "nbformat_minor": 5
}
