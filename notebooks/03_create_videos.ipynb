{
 "cells": [
  {
   "cell_type": "code",
   "execution_count": null,
   "id": "794f6a6d",
   "metadata": {},
   "outputs": [],
   "source": [
    "import os\n",
    "os.chdir('..')"
   ]
  },
  {
   "cell_type": "code",
   "execution_count": null,
   "id": "3d1a7062",
   "metadata": {},
   "outputs": [],
   "source": [
    "import cv2\n",
    "import numpy as np\n",
    "import glob\n",
    "version = 74\n",
    " \n",
    "def release_video(filename_str, file_match_pattern):\n",
    "    img_array = []\n",
    "    for filename in sorted(glob.glob(f'./images/version_{version}/{file_match_pattern}.png')):\n",
    "        img = cv2.imread(filename)\n",
    "        height, width, layers = img.shape\n",
    "        size = (width,height)\n",
    "        img_array.append(img)\n",
    "\n",
    "\n",
    "    out = cv2.VideoWriter(f'./images/version_{version}/{filename_str}.mp4',\n",
    "                          cv2.VideoWriter_fourcc(*'mp4v'), 2, size)\n",
    "\n",
    "    for i in range(len(img_array)):\n",
    "        out.write(img_array[i])\n",
    "    out.release()\n",
    "\n",
    "file_name_strings = ['recon_video', 'scatter_video', 'z_distro']\n",
    "file_match_patters = ['recon*', 'scatter*', 'lat*']\n",
    "\n",
    "for fn, fp in zip(file_name_strings, file_match_patters):\n",
    "    release_video(fn, fp)"
   ]
  },
  {
   "cell_type": "code",
   "execution_count": null,
   "id": "13305934",
   "metadata": {},
   "outputs": [],
   "source": []
  }
 ],
 "metadata": {
  "kernelspec": {
   "display_name": "Python 3 (ipykernel)",
   "language": "python",
   "name": "python3"
  },
  "language_info": {
   "codemirror_mode": {
    "name": "ipython",
    "version": 3
   },
   "file_extension": ".py",
   "mimetype": "text/x-python",
   "name": "python",
   "nbconvert_exporter": "python",
   "pygments_lexer": "ipython3",
   "version": "3.9.5"
  }
 },
 "nbformat": 4,
 "nbformat_minor": 5
}
